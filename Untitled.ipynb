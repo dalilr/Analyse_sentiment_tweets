{
 "cells": [
  {
   "cell_type": "code",
   "execution_count": 29,
   "metadata": {},
   "outputs": [],
   "source": [
    "import tweepy\n",
    "from textblob import TextBlob\n",
    "from textblob_fr import PatternTagger, PatternAnalyzer\n",
    "import pandas as pd"
   ]
  },
  {
   "cell_type": "code",
   "execution_count": 78,
   "metadata": {},
   "outputs": [],
   "source": [
    "#sujet = 'Déconfinement'\n",
    "\n",
    "def get_analysis(sujet, API_key, API_secret_key, access_token, access_token_secret):\n",
    "    auth = tweepy.OAuthHandler(API_key, API_secret_key)\n",
    "    auth.set_access_token(access_token, access_token_secret)\n",
    "\n",
    "    api = tweepy.API(auth)\n",
    "\n",
    "    public_tweets = api.search(sujet, count = 1000, lang = 'fr')\n",
    "    \n",
    "    tweets, sentiment, subjectivité = [], [], []\n",
    "\n",
    "    for tweet in public_tweets :\n",
    "        analyse = TextBlob(tweet.text, pos_tagger=PatternTagger(), analyzer=PatternAnalyzer())\n",
    "        tweets += [tweet.text]\n",
    "        sentiment += [analyse.sentiment[0]]\n",
    "        subjectivité += [analyse.sentiment[1]]\n",
    "        \n",
    "    d = {\"Tweets\" : tweets, \"Sentiment\" : sentiment,\"Subjectivité\" : subjectivité}\n",
    "    data = pd.DataFrame(data=d)\n",
    "    #data_objectifs = data.loc[data['Subjectivité'] > 0.5]\n",
    "    #data_subjectifs = data.loc[data['Subjectivité'] <= 0.5]\n",
    "    \n",
    "    return data\n",
    "\n",
    "#data.to_csv('Sentiment_analysis.csv', encoding='utf-8-sig', sep=\";\")\n",
    "\n",
    "    \n"
   ]
  }
 ],
 "metadata": {
  "kernelspec": {
   "display_name": "Python 3",
   "language": "python",
   "name": "python3"
  },
  "language_info": {
   "codemirror_mode": {
    "name": "ipython",
    "version": 3
   },
   "file_extension": ".py",
   "mimetype": "text/x-python",
   "name": "python",
   "nbconvert_exporter": "python",
   "pygments_lexer": "ipython3",
   "version": "3.7.3"
  }
 },
 "nbformat": 4,
 "nbformat_minor": 2
}
